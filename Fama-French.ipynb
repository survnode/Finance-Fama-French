{
 "cells": [
  {
   "cell_type": "code",
   "execution_count": 1,
   "metadata": {},
   "outputs": [],
   "source": [
    "# Import modules\n",
    "import pandas as pd\n",
    "import pandas_datareader \n",
    "import statsmodels.formula.api as smf\n",
    "import matplotlib.pyplot as plt\n",
    "import seaborn as sns"
   ]
  },
  {
   "cell_type": "code",
   "execution_count": 2,
   "metadata": {},
   "outputs": [],
   "source": [
    "\n",
    "# Specify the time peiod for data collection\n",
    "start_date = '2017-04-15'\n",
    "end_date = '2022-04-15'\n",
    "\n",
    "# List the ticker symbols of the portfolio stocks\n",
    "tickers = ['BAC', 'BMY', 'BX', 'CC', 'CI', 'CSCO', 'DE', 'HD', 'IFF', 'IHG', 'JNJ', 'JPM', 'LMT', 'MCD',\n",
    "           'MRK', 'NVS', 'NYT', 'PSO', 'RBGLY', 'SAP', 'SBUX', 'SHEL', 'STT', 'TXN', 'UPS', 'VZ', 'WFC', 'WLY', 'WTW', 'YORW']\n",
    "\n",
    "# Create a dataframe to hold the stock prices\n",
    "data = pd.DataFrame()\n",
    "\n",
    "# Loop through the ticker symbols and obtain the weekly closing price for each symbol\n",
    "# from Yahoo Finance\n",
    "for t in tickers:\n",
    "    data[t] = pandas_datareader.yahoo.daily.YahooDailyReader(t, interval='w' , start=start_date, end=end_date).read()['Adj Close']\n",
    "\n",
    "#data.head()\n",
    "    "
   ]
  },
  {
   "cell_type": "code",
   "execution_count": 3,
   "metadata": {},
   "outputs": [
    {
     "data": {
      "text/html": [
       "<div>\n",
       "<style scoped>\n",
       "    .dataframe tbody tr th:only-of-type {\n",
       "        vertical-align: middle;\n",
       "    }\n",
       "\n",
       "    .dataframe tbody tr th {\n",
       "        vertical-align: top;\n",
       "    }\n",
       "\n",
       "    .dataframe thead th {\n",
       "        text-align: right;\n",
       "    }\n",
       "</style>\n",
       "<table border=\"1\" class=\"dataframe\">\n",
       "  <thead>\n",
       "    <tr style=\"text-align: right;\">\n",
       "      <th></th>\n",
       "      <th>BAC</th>\n",
       "      <th>BMY</th>\n",
       "      <th>BX</th>\n",
       "      <th>CC</th>\n",
       "      <th>CI</th>\n",
       "      <th>CSCO</th>\n",
       "      <th>DE</th>\n",
       "      <th>HD</th>\n",
       "      <th>IFF</th>\n",
       "      <th>IHG</th>\n",
       "      <th>...</th>\n",
       "      <th>SHEL</th>\n",
       "      <th>STT</th>\n",
       "      <th>TXN</th>\n",
       "      <th>UPS</th>\n",
       "      <th>VZ</th>\n",
       "      <th>WFC</th>\n",
       "      <th>WLY</th>\n",
       "      <th>WTW</th>\n",
       "      <th>YORW</th>\n",
       "      <th>Avg</th>\n",
       "    </tr>\n",
       "    <tr>\n",
       "      <th>Date</th>\n",
       "      <th></th>\n",
       "      <th></th>\n",
       "      <th></th>\n",
       "      <th></th>\n",
       "      <th></th>\n",
       "      <th></th>\n",
       "      <th></th>\n",
       "      <th></th>\n",
       "      <th></th>\n",
       "      <th></th>\n",
       "      <th></th>\n",
       "      <th></th>\n",
       "      <th></th>\n",
       "      <th></th>\n",
       "      <th></th>\n",
       "      <th></th>\n",
       "      <th></th>\n",
       "      <th></th>\n",
       "      <th></th>\n",
       "      <th></th>\n",
       "      <th></th>\n",
       "    </tr>\n",
       "  </thead>\n",
       "  <tbody>\n",
       "    <tr>\n",
       "      <th>2022-03-14</th>\n",
       "      <td>42.900002</td>\n",
       "      <td>70.499779</td>\n",
       "      <td>122.849998</td>\n",
       "      <td>30.090000</td>\n",
       "      <td>241.160004</td>\n",
       "      <td>55.589321</td>\n",
       "      <td>412.099426</td>\n",
       "      <td>340.739990</td>\n",
       "      <td>128.321213</td>\n",
       "      <td>69.510757</td>\n",
       "      <td>...</td>\n",
       "      <td>51.160000</td>\n",
       "      <td>88.379677</td>\n",
       "      <td>180.100006</td>\n",
       "      <td>219.779999</td>\n",
       "      <td>50.188873</td>\n",
       "      <td>51.419998</td>\n",
       "      <td>54.892738</td>\n",
       "      <td>235.204895</td>\n",
       "      <td>43.090000</td>\n",
       "      <td>130.278788</td>\n",
       "    </tr>\n",
       "    <tr>\n",
       "      <th>2022-03-21</th>\n",
       "      <td>43.730000</td>\n",
       "      <td>72.743225</td>\n",
       "      <td>123.800003</td>\n",
       "      <td>32.029999</td>\n",
       "      <td>243.580002</td>\n",
       "      <td>54.596123</td>\n",
       "      <td>435.340179</td>\n",
       "      <td>310.679993</td>\n",
       "      <td>128.688889</td>\n",
       "      <td>68.967468</td>\n",
       "      <td>...</td>\n",
       "      <td>55.590000</td>\n",
       "      <td>89.969772</td>\n",
       "      <td>184.899994</td>\n",
       "      <td>215.350006</td>\n",
       "      <td>50.663097</td>\n",
       "      <td>52.560001</td>\n",
       "      <td>54.177265</td>\n",
       "      <td>237.188202</td>\n",
       "      <td>44.700001</td>\n",
       "      <td>131.704883</td>\n",
       "    </tr>\n",
       "    <tr>\n",
       "      <th>2022-03-28</th>\n",
       "      <td>40.900002</td>\n",
       "      <td>73.279266</td>\n",
       "      <td>128.130005</td>\n",
       "      <td>32.259998</td>\n",
       "      <td>246.250000</td>\n",
       "      <td>55.281429</td>\n",
       "      <td>415.740112</td>\n",
       "      <td>301.890015</td>\n",
       "      <td>134.330002</td>\n",
       "      <td>68.078461</td>\n",
       "      <td>...</td>\n",
       "      <td>55.720001</td>\n",
       "      <td>85.278984</td>\n",
       "      <td>182.080002</td>\n",
       "      <td>206.639999</td>\n",
       "      <td>51.492992</td>\n",
       "      <td>48.709999</td>\n",
       "      <td>54.535000</td>\n",
       "      <td>236.659988</td>\n",
       "      <td>43.669998</td>\n",
       "      <td>130.462405</td>\n",
       "    </tr>\n",
       "    <tr>\n",
       "      <th>2022-04-04</th>\n",
       "      <td>39.669998</td>\n",
       "      <td>77.769997</td>\n",
       "      <td>114.970001</td>\n",
       "      <td>32.299999</td>\n",
       "      <td>257.899994</td>\n",
       "      <td>53.910812</td>\n",
       "      <td>418.299988</td>\n",
       "      <td>311.109985</td>\n",
       "      <td>124.269997</td>\n",
       "      <td>64.949997</td>\n",
       "      <td>...</td>\n",
       "      <td>56.090000</td>\n",
       "      <td>84.169998</td>\n",
       "      <td>174.110001</td>\n",
       "      <td>190.970001</td>\n",
       "      <td>52.886028</td>\n",
       "      <td>48.730000</td>\n",
       "      <td>52.130211</td>\n",
       "      <td>241.050003</td>\n",
       "      <td>43.299999</td>\n",
       "      <td>130.246595</td>\n",
       "    </tr>\n",
       "    <tr>\n",
       "      <th>2022-04-11</th>\n",
       "      <td>37.570000</td>\n",
       "      <td>77.510002</td>\n",
       "      <td>112.980003</td>\n",
       "      <td>33.799999</td>\n",
       "      <td>259.209991</td>\n",
       "      <td>51.169998</td>\n",
       "      <td>436.750000</td>\n",
       "      <td>304.519989</td>\n",
       "      <td>125.430000</td>\n",
       "      <td>68.500000</td>\n",
       "      <td>...</td>\n",
       "      <td>57.110001</td>\n",
       "      <td>75.809998</td>\n",
       "      <td>173.660004</td>\n",
       "      <td>188.020004</td>\n",
       "      <td>53.830002</td>\n",
       "      <td>46.349998</td>\n",
       "      <td>53.619999</td>\n",
       "      <td>234.149994</td>\n",
       "      <td>41.520000</td>\n",
       "      <td>129.620666</td>\n",
       "    </tr>\n",
       "  </tbody>\n",
       "</table>\n",
       "<p>5 rows × 31 columns</p>\n",
       "</div>"
      ],
      "text/plain": [
       "                  BAC        BMY          BX         CC          CI  \\\n",
       "Date                                                                  \n",
       "2022-03-14  42.900002  70.499779  122.849998  30.090000  241.160004   \n",
       "2022-03-21  43.730000  72.743225  123.800003  32.029999  243.580002   \n",
       "2022-03-28  40.900002  73.279266  128.130005  32.259998  246.250000   \n",
       "2022-04-04  39.669998  77.769997  114.970001  32.299999  257.899994   \n",
       "2022-04-11  37.570000  77.510002  112.980003  33.799999  259.209991   \n",
       "\n",
       "                 CSCO          DE          HD         IFF        IHG  ...  \\\n",
       "Date                                                                  ...   \n",
       "2022-03-14  55.589321  412.099426  340.739990  128.321213  69.510757  ...   \n",
       "2022-03-21  54.596123  435.340179  310.679993  128.688889  68.967468  ...   \n",
       "2022-03-28  55.281429  415.740112  301.890015  134.330002  68.078461  ...   \n",
       "2022-04-04  53.910812  418.299988  311.109985  124.269997  64.949997  ...   \n",
       "2022-04-11  51.169998  436.750000  304.519989  125.430000  68.500000  ...   \n",
       "\n",
       "                 SHEL        STT         TXN         UPS         VZ  \\\n",
       "Date                                                                  \n",
       "2022-03-14  51.160000  88.379677  180.100006  219.779999  50.188873   \n",
       "2022-03-21  55.590000  89.969772  184.899994  215.350006  50.663097   \n",
       "2022-03-28  55.720001  85.278984  182.080002  206.639999  51.492992   \n",
       "2022-04-04  56.090000  84.169998  174.110001  190.970001  52.886028   \n",
       "2022-04-11  57.110001  75.809998  173.660004  188.020004  53.830002   \n",
       "\n",
       "                  WFC        WLY         WTW       YORW         Avg  \n",
       "Date                                                                 \n",
       "2022-03-14  51.419998  54.892738  235.204895  43.090000  130.278788  \n",
       "2022-03-21  52.560001  54.177265  237.188202  44.700001  131.704883  \n",
       "2022-03-28  48.709999  54.535000  236.659988  43.669998  130.462405  \n",
       "2022-04-04  48.730000  52.130211  241.050003  43.299999  130.246595  \n",
       "2022-04-11  46.349998  53.619999  234.149994  41.520000  129.620666  \n",
       "\n",
       "[5 rows x 31 columns]"
      ]
     },
     "execution_count": 3,
     "metadata": {},
     "output_type": "execute_result"
    }
   ],
   "source": [
    "# Compute the weekly portfolio value as the average price for all stocks.\n",
    "data['Avg'] = data.mean(1)\n",
    "data.tail()"
   ]
  },
  {
   "cell_type": "code",
   "execution_count": 4,
   "metadata": {},
   "outputs": [],
   "source": [
    "#Calculate the monthly returns based on the weekly prices\n",
    "y = data['Avg'].resample('M') \\\n",
    " .last() \\\n",
    " .pct_change() \\\n",
    " .dropna()\n",
    "#Format the date to yyyy-mm \n",
    "y.index = y.index.strftime('%Y-%m')\n",
    "y.name = 'rtn'\n",
    "#y.head()"
   ]
  },
  {
   "cell_type": "code",
   "execution_count": 5,
   "metadata": {},
   "outputs": [],
   "source": [
    "#Download the Fama-French benchmark data from the French Data Library\n",
    "#Unzip the data and load it as a csv file\n",
    "factor_df = pd.read_csv('F-F_Research_Data_Factors.csv',\n",
    " skiprows=3)\n",
    "#Filter and retain the monthly data\n",
    "STR_TO_MATCH = ' Annual Factors: January-December '\n",
    "indices = factor_df.iloc[:, 0] == STR_TO_MATCH\n",
    "start_of_annual = factor_df[indices].index[0]\n",
    "factor_df = factor_df[factor_df.index < start_of_annual]"
   ]
  },
  {
   "cell_type": "code",
   "execution_count": 6,
   "metadata": {},
   "outputs": [],
   "source": [
    "#Remane dataframe columns\n",
    "factor_df.columns = ['date', 'mkt', 'smb', 'hml', 'rf']\n",
    "factor_df['date'] = pd.to_datetime(factor_df['date'],\n",
    " format='%Y%m') \\\n",
    " .dt.strftime(\"%Y-%m\")\n",
    "#Set the date as an index\n",
    "factor_df = factor_df.set_index('date')\n",
    "factor_df = factor_df.loc[start_date:end_date]"
   ]
  },
  {
   "cell_type": "code",
   "execution_count": 7,
   "metadata": {},
   "outputs": [],
   "source": [
    "#Merge the portfolio returns and benchmark datafames\n",
    "ff_data = factor_df.join(y)\n",
    "ff_data = ff_data.apply(pd.to_numeric)\n",
    "#Compute the portfolio's excess returns\n",
    "ff_data['excess_rtn'] = ff_data.rtn - ff_data.rf"
   ]
  },
  {
   "cell_type": "markdown",
   "metadata": {},
   "source": [
    "## Introduction\n",
    "\n",
    "The Fama–French three-factor model is an expansion of the capital assets pricing model (CAPM) that utilizes statistical modeling to evaluate the returns of a portfolio or asset. In particular, the model analyzes three factors, namely excess market returns(mkt), excess returns of small-cap stocks relative to large-cap stocks(smb), and excess returns of value stocks over growth stocks (hml). The model therefore seeks to control for the outperformance of small-cap and value stocks in order to explain the performance of a portfolio.  The model assumes that there is a linear relationship between portfolio returns, mkt, smb and hml that is express as:\n",
    "\n",
    "<i> r = R<sub>f</sub> + β<sub>1</sub>(R<sub>m</sub> - R<sub>f</sub>) +  β<sub>2</sub>(smb) +  β<sub>3</sub>(hml) + ε </i>\n",
    "\n",
    "\n",
    "<i>r</i> is is the expected rate of return, <i>(R<sub>m</sub> - R<sub>f</sub>) </i> is the market premium caluculated as the difference between market return <i>(R<sub>m</sub>)</i> and the risk free rate <i>(R<sub>f</sub>)</i>, and ε is the market risk. The model estimates the coefficients of each factor <i>(β)</i> to obtain the expected return rate of the portfolio."
   ]
  },
  {
   "cell_type": "markdown",
   "metadata": {},
   "source": [
    "## Data\n",
    "We estimate the Fama–French three-factor model that can be used to explain the returns of a diversified portfolio comperising of 30 stocks from different industries. The portfolio is equally weighted consisting of weekly adjusted closing prices for each of the selected stocks over a 5-year period from 15 April, 2017 to 15 April 2022. The model analyzes four variables, which include portfolio excess returns, excess market returns (mkt), excess returns on small market capitalization stocks relative to large market capitalization stocks (smb), and excess return on value stocks relative to growth stocks (hml). Data used to calculate portfolio returns was obtained from Yahoo Finance, while Fama–French benchmark data was obtained from the <a href=\"https://mba.tuck.dartmouth.edu/pages/faculty/ken.french/data_library.html\">French data library</a>. A summary of the data is shown below along with the scatter plots of the dependent variable (excess portfolio returns) relative to the\n",
    "independent variables (mkt, sbm, hml)."
   ]
  },
  {
   "cell_type": "code",
   "execution_count": 8,
   "metadata": {},
   "outputs": [
    {
     "name": "stdout",
     "output_type": "stream",
     "text": [
      "             mkt       smb        hml         rf        rtn  excess_rtn\n",
      "count  58.000000  58.00000  58.000000  58.000000  58.000000   58.000000\n",
      "mean    1.218448  -0.06931  -0.304655   0.086207   0.011034   -0.075173\n",
      "std     4.847682   2.81541   4.089884   0.075622   0.045231    0.094894\n",
      "min   -13.380000  -5.87000 -14.020000   0.000000  -0.127356   -0.267573\n",
      "25%    -0.090000  -2.26500  -2.265000   0.010000  -0.010144   -0.149721\n",
      "50%     1.780000  -0.36000  -0.620000   0.090000   0.011422   -0.074092\n",
      "75%     3.347500   1.91500   1.715000   0.150000   0.035875   -0.005843\n",
      "max    13.650000   7.18000  12.790000   0.210000   0.129058    0.119058\n"
     ]
    }
   ],
   "source": [
    "#Display summary statistics\n",
    "print (ff_data.describe(include='all'))"
   ]
  },
  {
   "cell_type": "code",
   "execution_count": 9,
   "metadata": {},
   "outputs": [
    {
     "data": {
      "image/png": "[encoded data removed]",
      "text/plain": [
       "<Figure size 1440x864 with 3 Axes>"
      ]
     },
     "metadata": {
      "needs_background": "light"
     },
     "output_type": "display_data"
    }
   ],
   "source": [
    "# Plotting scatterplots for the variables\n",
    "fig = plt.figure(figsize=(20,12))\n",
    "#  subplot #1\n",
    "plt.subplot(231)\n",
    "plt.title('Scatterplot of Excess returns v MKT')\n",
    "sns.scatterplot(data = ff_data, x = 'mkt', y = 'excess_rtn')\n",
    "#  subplot #2\n",
    "plt.subplot(232)\n",
    "plt.title('Scatterplot of Excess returns v SMB')\n",
    "sns.scatterplot(data = ff_data, x = 'smb', y = 'excess_rtn')\n",
    "#  subplot #3\n",
    "plt.subplot(233)\n",
    "plt.title('Scatterplot of Excess returns v HML')\n",
    "sns.scatterplot(data = ff_data, x = 'hml', y = 'excess_rtn')\n",
    "\n",
    "plt.show()"
   ]
  },
  {
   "cell_type": "markdown",
   "metadata": {},
   "source": [
    "The excess portfolio returns have a moderate positive linear relationship with excess market returns as evidenced by the positive correlation of the data points. There is also a weak linear relationship between excess portfolio returns and excess small-cap returns since there is a general upward pattern in the data points. However, there is no clear relationship beween excess portfolio returns and excess value stock returns, since most of the excess potfolio returns appear to be clustered around the hml value of zero. The scatter plots indicate that among the three factors, excess market returns are the strongest predictors of excess portfolio returns."
   ]
  },
  {
   "cell_type": "markdown",
   "metadata": {},
   "source": [
    "## OLS\n",
    "### Initial Results"
   ]
  },
  {
   "cell_type": "code",
   "execution_count": 10,
   "metadata": {},
   "outputs": [
    {
     "name": "stdout",
     "output_type": "stream",
     "text": [
      "                            OLS Regression Results                            \n",
      "==============================================================================\n",
      "Dep. Variable:             excess_rtn   R-squared:                       0.428\n",
      "Model:                            OLS   Adj. R-squared:                  0.396\n",
      "Method:                 Least Squares   F-statistic:                     13.46\n",
      "Date:                Fri, 22 Apr 2022   Prob (F-statistic):           1.13e-06\n",
      "Time:                        14:50:50   Log-Likelihood:                 70.985\n",
      "No. Observations:                  58   AIC:                            -134.0\n",
      "Df Residuals:                      54   BIC:                            -125.7\n",
      "Df Model:                           3                                         \n",
      "Covariance Type:            nonrobust                                         \n",
      "==============================================================================\n",
      "                 coef    std err          t      P>|t|      [0.025      0.975]\n",
      "------------------------------------------------------------------------------\n",
      "Intercept     -0.0867      0.010     -8.592      0.000      -0.107      -0.066\n",
      "mkt            0.0111      0.002      5.180      0.000       0.007       0.015\n",
      "smb            0.0005      0.004      0.144      0.886      -0.007       0.008\n",
      "hml            0.0064      0.002      2.674      0.010       0.002       0.011\n",
      "==============================================================================\n",
      "Omnibus:                        6.471   Durbin-Watson:                   0.399\n",
      "Prob(Omnibus):                  0.039   Jarque-Bera (JB):                2.937\n",
      "Skew:                          -0.268   Prob(JB):                        0.230\n",
      "Kurtosis:                       2.036   Cond. No.                         5.32\n",
      "==============================================================================\n",
      "\n",
      "Notes:\n",
      "[1] Standard Errors assume that the covariance matrix of the errors is correctly specified.\n"
     ]
    }
   ],
   "source": [
    "#Use OLS regression to estimate the Fama-French Three-Factor Model\n",
    "ff_model = smf.ols(formula='excess_rtn ~ mkt + smb + hml',\n",
    " data=ff_data).fit()\n",
    "print(ff_model.summary())"
   ]
  },
  {
   "cell_type": "markdown",
   "metadata": {},
   "source": [
    "\n",
    "* H<sub>0</sub> : β<sub>1</sub> = β<sub>2</sub> = β<sub>3</sub> = 0;\n",
    "\n",
    "According to the null hypothesis, the predictor variables do not have a statistically significant relationship with the excess portfolio returns, y. The results however reject the null hypothesis since two of the coefficients are not equal to zero.\n",
    "The result summary show that market risk premium (0.01, <i>p</i> < 0.01) and value stock excess returns (0.01, <i>p</i> < 0.05) have a statistically significant relationship with the portfolio excess returns. The SMB (0.001, <i>p</i> = 0.89) however does not have a significant relationship since as the <i>P</i>-value is higher than the 0.05 significance level. The the sign of all the coefficients is positive, which is consistent with the theoretical model. The results therefore indicate that exceess market returns and excess value stock returns have a strong positive relationship with portfolio returns and are critical factors that affect the returns of the portfolio.\n",
    "\n",
    "The F-statistic (13.46) is greater than the F-citical (0.00) which indicates that the model is significant, implying that the independent vaiables have a signiicant combined effect on the portfolio excess returns. We can therefore reject the null hypothesis that the predictor variables do not have a statistically significant relationship with the excess portfolio returns. The R<sup>2</sup> of 0.428 implies that 42.8% of the variation in the excess portfolio returns can be explained by the variations in MKT, SMB and HML. The adjusted R<sup>2</sup> (0.396) however indicates that the variables are not effective predictors of the portfolio returns since they are only able to fit 39.6% of the returns."
   ]
  },
  {
   "cell_type": "markdown",
   "metadata": {},
   "source": [
    "### OLS Diagnostics"
   ]
  },
  {
   "cell_type": "code",
   "execution_count": 11,
   "metadata": {},
   "outputs": [
    {
     "name": "stdout",
     "output_type": "stream",
     "text": [
      "The mean of residuals is -0.000\n"
     ]
    }
   ],
   "source": [
    "#Compute mean of residuals is zero\n",
    "print ('The mean of residuals is %.3f'%ff_model.resid.mean())"
   ]
  },
  {
   "cell_type": "markdown",
   "metadata": {},
   "source": [
    "The mean or expectation of residuals is zero hence <i>E(u<sub>t</sub>)</i> = 0 is satisfied. Residuals represent the difference between the data point and the regression line and therefore the assumption is significant since it implies that the regression line is the best fit. If the assumption is not satified, it is indicative of spuious results since it suggests that the predicted values could be significantly higher or lower than the observed values."
   ]
  },
  {
   "cell_type": "code",
   "execution_count": 12,
   "metadata": {},
   "outputs": [
    {
     "data": {
      "text/plain": [
       "[('Lagrange multiplier statistic', 2.347503519885466),\n",
       " ('p-value', 0.5034816242406481),\n",
       " ('f-value', 0.7592662689091908),\n",
       " ('f p-value', 0.5218764257601985)]"
      ]
     },
     "execution_count": 12,
     "metadata": {},
     "output_type": "execute_result"
    }
   ],
   "source": [
    "from statsmodels.compat import lzip\n",
    "import statsmodels.stats.api as sms\n",
    "\n",
    "#Bresuch-Pagan test\n",
    "names = ['Lagrange multiplier statistic', 'p-value',\n",
    "        'f-value', 'f p-value']\n",
    "test = sms.het_breuschpagan(ff_model.resid, ff_model.model.exog)\n",
    "\n",
    "lzip(names, test)"
   ]
  },
  {
   "cell_type": "markdown",
   "metadata": {},
   "source": [
    "* H<sub>0</sub>: Homoscedasticity is present\n",
    "\n",
    "The Lagrange multiplier statistic is 2.35 with a corresponding <i>p</i>-value is 0.503. Since the p-value is not less greater 0.05, we fail to reject the null hypothesis and therefore <i>var(u<sub>t</sub>) = σ<sup>2</sup> < ∞</i> is satisfied since there is no evidence of heteroscedasticity in the regression model. OLS regression assumes that the residuals have a constant variance and therefore if the assumption is not satisfied, it is indicative of spurious results and therefore incorrect conclusions."
   ]
  },
  {
   "cell_type": "code",
   "execution_count": 13,
   "metadata": {},
   "outputs": [
    {
     "name": "stdout",
     "output_type": "stream",
     "text": [
      "(48.45322911568293, 7.592310376718832e-10, 63.44190839868097, 5.634552882039302e-19)\n"
     ]
    }
   ],
   "source": [
    "import statsmodels.stats.diagnostic as dg\n",
    "\n",
    "#Breusch-Godfrey test at order p = 4\n",
    "print(dg.acorr_breusch_godfrey(ff_model, nlags=4))"
   ]
  },
  {
   "cell_type": "markdown",
   "metadata": {},
   "source": [
    "* H<sub>0</sub>: There is no autocorrelation at any order <= <i>p</i>\n",
    "\n",
    "The second value represents the <i>p</i>-value and since it is less than 0.05, we reject the null hypothesis and conclude that autocorrelation exists within the residuals at an order less than or equal to 4. <i>cov(u<sub>i</sub>, u<sub>j</sub>)</i> = 0 is not satisfied implying that the regression model is biased since it is underestimating the sampling variance and therefore does not inefficiently estimate the response variable."
   ]
  },
  {
   "cell_type": "code",
   "execution_count": 14,
   "metadata": {},
   "outputs": [
    {
     "name": "stdout",
     "output_type": "stream",
     "text": [
      "                            OLS Regression Results                            \n",
      "==============================================================================\n",
      "Dep. Variable:             excess_rtn   R-squared:                       0.428\n",
      "Model:                            OLS   Adj. R-squared:                  0.396\n",
      "Method:                 Least Squares   F-statistic:                     28.41\n",
      "Date:                Fri, 22 Apr 2022   Prob (F-statistic):           3.68e-11\n",
      "Time:                        14:50:55   Log-Likelihood:                 70.985\n",
      "No. Observations:                  58   AIC:                            -134.0\n",
      "Df Residuals:                      54   BIC:                            -125.7\n",
      "Df Model:                           3                                         \n",
      "Covariance Type:                  HAC                                         \n",
      "==============================================================================\n",
      "                 coef    std err          t      P>|t|      [0.025      0.975]\n",
      "------------------------------------------------------------------------------\n",
      "Intercept     -0.0867      0.018     -4.732      0.000      -0.123      -0.050\n",
      "mkt            0.0111      0.001      7.760      0.000       0.008       0.014\n",
      "smb            0.0005      0.003      0.166      0.869      -0.006       0.007\n",
      "hml            0.0064      0.003      2.156      0.036       0.000       0.012\n",
      "==============================================================================\n",
      "Omnibus:                        6.471   Durbin-Watson:                   0.399\n",
      "Prob(Omnibus):                  0.039   Jarque-Bera (JB):                2.937\n",
      "Skew:                          -0.268   Prob(JB):                        0.230\n",
      "Kurtosis:                       2.036   Cond. No.                         5.32\n",
      "==============================================================================\n",
      "\n",
      "Notes:\n",
      "[1] Standard Errors are heteroscedasticity and autocorrelation robust (HAC) using 4 lags and without small sample correction\n"
     ]
    }
   ],
   "source": [
    "#Newey-West correction of the standard errors\n",
    "#Create a new OLS model co_model\n",
    "co_model = ff_model.get_robustcov_results(cov_type='HAC',maxlags=4)\n",
    "print (co_model.summary())\n"
   ]
  },
  {
   "cell_type": "markdown",
   "metadata": {},
   "source": [
    "* H<sub>0</sub> : β<sub>1</sub> = β<sub>2</sub> = β<sub>3</sub> = 0;\n",
    "\n",
    "Similar to the initial regression, the OLS results of the corrected regression reject the null hypothesis since two of the coefficients are not equal to zero. The result summary show that mkt (0.01, <i>p</i> < 0.01) and hml (0.01, <i>p</i> < 0.05) have a statistically significant relationship with the portfolio excess returns. The smb (0.001, <i>p</i> = 0.87)  does not have a significant relationship and the the sign of all the coefficients is positive, which is consistent with the theoretical model. The results are consistent with the findings of the initial model, with only the <i>p</i>-value of smb decreasing slightly from the initial model.\n",
    "\n",
    "The F-statistic (28.41) is greater than the F-citical (0.00) which indicates that the independent vaiables have a signiicant combined effect on the portfolio excess returns. We can therefore reject the null hypothesis. The R<sup>2</sup> and adjusted R<sup>2</sup> of the corrected model are unchanged from the inital model."
   ]
  },
  {
   "cell_type": "code",
   "execution_count": 15,
   "metadata": {},
   "outputs": [
    {
     "data": {
      "text/plain": [
       "[('Jarque-Bera', 2.9365189758583425),\n",
       " ('Chi^2 two-tail prob.', 0.23032602173731817),\n",
       " ('Skew', -0.26774371265261876),\n",
       " ('Kurtosis', 2.0364832551039167)]"
      ]
     },
     "execution_count": 15,
     "metadata": {},
     "output_type": "execute_result"
    }
   ],
   "source": [
    "#Jarque-Bera test\n",
    "name = ['Jarque-Bera', 'Chi^2 two-tail prob.', 'Skew', 'Kurtosis']\n",
    "test = sms.jarque_bera(co_model.resid)\n",
    "\n",
    "lzip(name, test)\n"
   ]
  },
  {
   "cell_type": "markdown",
   "metadata": {},
   "source": [
    "H<sub>0</sub> : skewness = 0 and kurtosis = 3\n",
    "\n",
    "The error terms are normally distributed since the <i>p</i>-value Jarque-Bera test is greater than 0.05 and therefore we cannot reject H<sub>0</sub>. If this assumption is not satisfied, the model results could be incorrect since it implies there is frequent significant difference between the predicted and observed data points."
   ]
  },
  {
   "cell_type": "code",
   "execution_count": 16,
   "metadata": {},
   "outputs": [
    {
     "data": {
      "text/plain": [
       "Text(0.5, 1.0, 'Correlation Heatmap')"
      ]
     },
     "execution_count": 16,
     "metadata": {},
     "output_type": "execute_result"
    },
    {
     "data": {
      "image/png": "[encoded data removed]",
      "text/plain": [
       "<Figure size 1152x432 with 2 Axes>"
      ]
     },
     "metadata": {
      "needs_background": "light"
     },
     "output_type": "display_data"
    }
   ],
   "source": [
    "#Plot a correlation matrix\n",
    "ax = plt.figure(figsize=(16, 6))\n",
    "sns.set(font_scale=2)\n",
    "# Extract independent variables\n",
    "cor_df =  ff_data.filter(['mkt','smb','hml'], axis=1)\n",
    "heatmap = sns.heatmap(cor_df.corr(), vmin=-1, vmax=1, annot=True)\n",
    "heatmap.set_title('Correlation Heatmap', fontdict={'fontsize':12}, pad=12)"
   ]
  },
  {
   "cell_type": "markdown",
   "metadata": {},
   "source": [
    "There is no evident near-multicollinearity since one of the independent variables have an an almost linear relationship between them. The highest correlation is between smb and mkt (0.33) which is below 50%."
   ]
  },
  {
   "cell_type": "code",
   "execution_count": 17,
   "metadata": {},
   "outputs": [
    {
     "data": {
      "text/plain": [
       "<class 'statsmodels.stats.contrast.ContrastResults'>\n",
       "<F test: F=1.332117936509163, p=0.2741886047855476, df_denom=51, df_num=3>"
      ]
     },
     "execution_count": 17,
     "metadata": {},
     "output_type": "execute_result"
    }
   ],
   "source": [
    "#RESET Ramsey test\n",
    "from statsmodels.stats.outliers_influence import reset_ramsey\n",
    "reset_ramsey(co_model, degree = 4)"
   ]
  },
  {
   "cell_type": "markdown",
   "metadata": {},
   "source": [
    "* H<sub>0</sub> : β<sub>1</sub> = β<sub>2</sub> = β<sub>3</sub> = 0;\n",
    "\n",
    "The p-value for the F-stat is 0.27 which is greater than the 0.05 significance level. Therefore we cannot reject the null hypothesis of correct specification. This is an indication that the model has the correct functional form iand is therefore there are no omitted variables."
   ]
  },
  {
   "cell_type": "code",
   "execution_count": 26,
   "metadata": {},
   "outputs": [
    {
     "name": "stdout",
     "output_type": "stream",
     "text": [
      "0.881234236539463\n"
     ]
    }
   ],
   "source": [
    "import statsmodels.api as sm\n",
    "import scipy\n",
    "\n",
    "#define response variable\n",
    "y1 = ff_data['excess_rtn']\n",
    "\n",
    "#Reduce predictor variables to only significant variables\n",
    "x1 = ff_data[['mkt', 'hml']]\n",
    "\n",
    "#Add constant to predictor variables\n",
    "x1 = sm.add_constant(x1)\n",
    "\n",
    "#fit reduced regression model\n",
    "reduced_model = sm.OLS(y1, x1).fit()\n",
    "\n",
    "#calculate log-likelihood of model\n",
    "reduced_ll = reduced_model.llf\n",
    "full_ll = ff_model.llf\n",
    "\n",
    "#Compute likelihood ratio Chi-Squared \n",
    "LR_statistic = -2*(reduced_ll-full_ll)\n",
    "\n",
    "#Compute p-value of  Chi-Squared using 1 degree of freedom \n",
    "# calculated as the difference between the predictors in the \n",
    "# reduced and full models\n",
    "p_val = scipy.stats.chi2.sf(LR_statistic, 1)\n",
    "\n",
    "print(p_val)"
   ]
  },
  {
   "cell_type": "markdown",
   "metadata": {},
   "source": [
    "H<sub>0</sub>: The full model and the reduced model fit the data. \n",
    "\n",
    "Since the <i>p</i>-value is greater than 0.05 we cannot reject the null hypothesis and can conclude that the reduced model offers a better fit for the data. Model stabiity i significant since it ensures there is no heteroscedasticity in the model. if the condition is not satisfied it implies that that OLS estimators are not the best fit and are therefore biased."
   ]
  }
 ],
 "metadata": {
  "interpreter": {
   "hash": "dc44e188f90d3dc04deaf720bbf8de1544c596b205badf0b60435035c6657c74"
  },
  "kernelspec": {
   "display_name": "Python 3.8.0 64-bit",
   "language": "python",
   "name": "python3"
  },
  "language_info": {
   "codemirror_mode": {
    "name": "ipython",
    "version": 3
   },
   "file_extension": ".py",
   "mimetype": "text/x-python",
   "name": "python",
   "nbconvert_exporter": "python",
   "pygments_lexer": "ipython3",
   "version": "3.8.0"
  },
  "orig_nbformat": 4
 },
 "nbformat": 4,
 "nbformat_minor": 2
}
